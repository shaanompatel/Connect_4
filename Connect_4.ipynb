{
  "nbformat": 4,
  "nbformat_minor": 0,
  "metadata": {
    "colab": {
      "name": "Connect_4.ipynb",
      "provenance": [],
      "authorship_tag": "ABX9TyMfZsND9oYpmYpr6T/zk5ER",
      "include_colab_link": true
    },
    "kernelspec": {
      "display_name": "Python 3",
      "name": "python3"
    },
    "language_info": {
      "name": "python"
    }
  },
  "cells": [
    {
      "cell_type": "markdown",
      "metadata": {
        "id": "view-in-github",
        "colab_type": "text"
      },
      "source": [
        "<a href=\"https://colab.research.google.com/github/shaanompatel/Connect_4/blob/main/Connect_4.ipynb\" target=\"_parent\"><img src=\"https://colab.research.google.com/assets/colab-badge.svg\" alt=\"Open In Colab\"/></a>"
      ]
    },
    {
      "cell_type": "code",
      "metadata": {
        "colab": {
          "base_uri": "https://localhost:8080/",
          "height": 35
        },
        "id": "zpN9OmG4envh",
        "outputId": "219bbe1b-9b2c-46ca-ce2f-554eda5c0790"
      },
      "source": [
        "\"\"\"\n",
        "Components:\n",
        "- Board\n",
        "- Display Board\n",
        "- Execute Game\n",
        "   - Take turns\n",
        "\n",
        "- Check for Victories\n",
        "- Check for ties\n",
        "\n",
        "\"\"\""
      ],
      "execution_count": 244,
      "outputs": [
        {
          "output_type": "execute_result",
          "data": {
            "application/vnd.google.colaboratory.intrinsic+json": {
              "type": "string"
            },
            "text/plain": [
              "'\\nComponents:\\n- Board\\n- Display Board\\n- Execute Game\\n   - Take turns\\n\\n- Check for Victories\\n- Check for ties\\n\\n'"
            ]
          },
          "metadata": {
            "tags": []
          },
          "execution_count": 244
        }
      ]
    },
    {
      "cell_type": "code",
      "metadata": {
        "id": "dloBPb_jmDFh"
      },
      "source": [
        "#Libraries:\n",
        "from termcolor import colored\n",
        "\n",
        "\n",
        "game_not_done = True\n",
        "\n",
        "current_player = colored('O', 'red')\n",
        "winner =  None"
      ],
      "execution_count": 245,
      "outputs": []
    },
    {
      "cell_type": "code",
      "metadata": {
        "id": "xR4vUdnlhh0h"
      },
      "source": [
        "grid = [\"-\", \"-\", \"-\", \"-\", \"-\",\"-\", \"-\",\n",
        "        \"-\", \"-\", \"-\", \"-\", \"-\",\"-\", \"-\",\n",
        "        \"-\", \"-\", \"-\", \"-\", \"-\",\"-\", \"-\",\n",
        "        \"-\", \"-\", \"-\", \"-\", \"-\",\"-\", \"-\",\n",
        "        \"-\", \"-\", \"-\", \"-\", \"-\",\"-\", \"-\",\n",
        "        \"-\", \"-\", \"-\", \"-\", \"-\",\"-\", \"-\"]\n",
        "\n",
        "# create grid"
      ],
      "execution_count": 246,
      "outputs": []
    },
    {
      "cell_type": "code",
      "metadata": {
        "id": "0qijl8tTo4-Z"
      },
      "source": [
        "ref_grid = [\"1\", \"2\", \"3\", \"4\", \"5\",\"6\", \"7\",\n",
        "        \"8\", \"9\", \"10\", \"11\", \"12\",\"13\", \"14\",\n",
        "        \"15\", \"16\", \"17\", \"18\", \"19\",\"20\", \"21\",\n",
        "        \"22\", \"23\", \"24\", \"25\", \"26\",\"27\", \"28\",\n",
        "        \"29\", \"30\", \"31\", \"32\", \"33\",\"34\", \"35\",\n",
        "        \"36\", \"37\", \"38\", \"39\", \"40\",\"41\", \"42\"]\n",
        "\n",
        "def show_ref_grid():\n",
        "  print(ref_grid[0] + \"|\" + ref_grid[1] + \"|\" + ref_grid[2] + \"|\" + ref_grid[3] + \"|\" + ref_grid[4] + \"|\" + ref_grid[5] + \"|\" + ref_grid[6])\n",
        "  print(ref_grid[7] + \"|\" + ref_grid[8] + \"|\" + ref_grid[9] + \"|\" + ref_grid[10] + \"|\" + ref_grid[11] + \"|\" + ref_grid[12] + \"|\" + ref_grid[13])\n",
        "  print(ref_grid[14] + \"|\" + ref_grid[15] + \"|\" + ref_grid[16] + \"|\" + ref_grid[17] + \"|\" + ref_grid[18] + \"|\" + ref_grid[19] + \"|\" + ref_grid[20])\n",
        "  print(ref_grid[21] + \"|\" + ref_grid[22] + \"|\" + ref_grid[23] + \"|\" + ref_grid[24] + \"|\" + ref_grid[25] + \"|\" + ref_grid[26] + \"|\" + ref_grid[27])\n",
        "  print(ref_grid[28] + \"|\" + ref_grid[29] + \"|\" + ref_grid[30] + \"|\" + ref_grid[31] + \"|\" + ref_grid[32] + \"|\" + ref_grid[33] + \"|\" + ref_grid[34])\n",
        "  print(ref_grid[35] + \"|\" + ref_grid[36] + \"|\" + ref_grid[37] + \"|\" + ref_grid[38] + \"|\" + ref_grid[39] + \"|\" + ref_grid[40] + \"|\" + ref_grid[41])\n",
        "\n",
        "\n",
        "\n",
        "\n",
        "# create grid"
      ],
      "execution_count": 247,
      "outputs": []
    },
    {
      "cell_type": "code",
      "metadata": {
        "id": "X0eN4iefh-KP"
      },
      "source": [
        "def show_grid():\n",
        "  print(grid[0] + \"|\" + grid[1] + \"|\" + grid[2] + \"|\" + grid[3] + \"|\" + grid[4] + \"|\" + grid[5] + \"|\" + grid[6])\n",
        "  print(grid[7] + \"|\" + grid[8] + \"|\" + grid[9] + \"|\" + grid[10] + \"|\" + grid[11] + \"|\" + grid[12] + \"|\" + grid[13])\n",
        "  print(grid[14] + \"|\" + grid[15] + \"|\" + grid[16] + \"|\" + grid[17] + \"|\" + grid[18] + \"|\" + grid[19] + \"|\" + grid[20])\n",
        "  print(grid[21] + \"|\" + grid[22] + \"|\" + grid[23] + \"|\" + grid[24] + \"|\" + grid[25] + \"|\" + grid[26] + \"|\" + grid[27])\n",
        "  print(grid[28] + \"|\" + grid[29] + \"|\" + grid[30] + \"|\" + grid[31] + \"|\" + grid[32] + \"|\" + grid[33] + \"|\" + grid[34])\n",
        "  print(grid[35] + \"|\" + grid[36] + \"|\" + grid[37] + \"|\" + grid[38] + \"|\" + grid[39] + \"|\" + grid[40] + \"|\" + grid[41])\n",
        "\n",
        "# function to print the playing grid"
      ],
      "execution_count": 248,
      "outputs": []
    },
    {
      "cell_type": "code",
      "metadata": {
        "id": "LeDKh2sqkw76"
      },
      "source": [
        "def start_turn(player):\n",
        "  print(\"Reference Grid:\")\n",
        "  show_ref_grid()\n",
        "  print(player + \"'s turn\")\n",
        "  \n",
        "  valid = False\n",
        "  while not valid:  \n",
        "    position = int(input(\"Where Would You Like To Place A Token (1-42)? \")) - 1\n",
        "    while grid[position] !=\"-\":\n",
        "      position = int(input(\"Please choose a space that is not already filled\"))\n",
        "\n",
        "    if position < 35 and  grid[position + 7] == \"-\":\n",
        "       print (\"You cannot go there\")\n",
        "    else:\n",
        "      valid = True\n",
        "    \n",
        "  grid[position] = player\n",
        "  show_grid()\n",
        "    \n",
        "  "
      ],
      "execution_count": 249,
      "outputs": []
    },
    {
      "cell_type": "code",
      "metadata": {
        "id": "IO8Y0U00UUv3"
      },
      "source": [
        "def check_diagonals_negative():\n",
        "  global game_not_done\n",
        "  for x in range(18):\n",
        "    if grid[x] == grid[x+8] == grid[x+16] == grid[x+24] !=\"-\":\n",
        "      game_not_done = False\n",
        "      return grid[x]\n",
        "\n",
        "  return\n",
        "\n",
        "def check_diagonals_positive():\n",
        "  global game_not_done\n",
        "  for x in range(21,39):\n",
        "    if grid[x] == grid[x-6] == grid[x-12] == grid[x-18] !=\"-\":\n",
        "      game_not_done = False\n",
        "      return grid[x]\n",
        "  return\n",
        "\n",
        "def check_rows():\n",
        "  global game_not_done\n",
        "  for x in range(39):\n",
        "    if grid[x] == grid[x+1] == grid[x+2] == grid[x+3] !=\"-\":\n",
        "      game_not_done = False\n",
        "      return grid[x]\n",
        "  return\n",
        "\n",
        "\n",
        "def check_columns():\n",
        "  global game_not_done\n",
        "  for x in range(21):\n",
        "    if grid[x] == grid[x+7] == grid[x+14] == grid[x+21] !=\"-\":\n",
        "      game_not_done = False\n",
        "      return grid[x]\n",
        "  return"
      ],
      "execution_count": 250,
      "outputs": []
    },
    {
      "cell_type": "code",
      "metadata": {
        "id": "3HMN0iSVofuj"
      },
      "source": [
        "def check_tie():\n",
        "  global game_not_done\n",
        "  if \"-\" not in grid:\n",
        "    game_not_done = False\n",
        "\n",
        "  return\n"
      ],
      "execution_count": 252,
      "outputs": []
    },
    {
      "cell_type": "code",
      "metadata": {
        "id": "lz3t6JqTVKUm"
      },
      "source": [
        "def check_win():\n",
        "  global winner\n",
        "  win_row = check_rows()\n",
        "  win_column = check_columns()\n",
        "  win_diagonal_negative = check_diagonals_negative() \n",
        "  win_diagonal_positive = check_diagonals_positive()\n",
        "\n",
        "\n",
        "  if win_row:\n",
        "    winner = win_row\n",
        "  elif win_column:\n",
        "    winner = win_column\n",
        "  elif win_diagonal_negative:\n",
        "    winner = win_diagonal_negative\n",
        "  elif win_diagonal_positive:\n",
        "    winner = win_diagonal_positive\n",
        "  else:\n",
        "    winner = None\n",
        "\n",
        "\n",
        "  return"
      ],
      "execution_count": 253,
      "outputs": []
    },
    {
      "cell_type": "code",
      "metadata": {
        "id": "f3FKiM1foCqZ"
      },
      "source": [
        "def check_if_over():\n",
        "  check_win()\n",
        "  check_tie()"
      ],
      "execution_count": 254,
      "outputs": []
    },
    {
      "cell_type": "code",
      "metadata": {
        "id": "I1NoTfnjou4w"
      },
      "source": [
        "def change_player():\n",
        "  return"
      ],
      "execution_count": 255,
      "outputs": []
    },
    {
      "cell_type": "code",
      "metadata": {
        "id": "Hn_di2hVimnL"
      },
      "source": [
        "def change_player():\n",
        "  global current_player\n",
        "  if current_player == colored('O', 'red'):\n",
        "    current_player = colored('O', 'yellow')\n",
        "  elif current_player == colored('O', 'yellow'):\n",
        "    current_player = colored('O', 'red')\n",
        "  "
      ],
      "execution_count": 256,
      "outputs": []
    },
    {
      "cell_type": "code",
      "metadata": {
        "colab": {
          "base_uri": "https://localhost:8080/"
        },
        "id": "1p7LFptSkDR6",
        "outputId": "c72b998a-ef7d-4a6b-f910-d64202f53ed5"
      },
      "source": [
        "def start_game():\n",
        "  # print out the playing grid\n",
        "  show_grid()\n",
        "  while game_not_done:\n",
        "    start_turn(current_player)\n",
        "    check_if_over()\n",
        "    change_player()\n",
        "  if winner ==  colored('O', 'red') or winner ==  colored('O', 'yellow'):\n",
        "    print (winner + \" has won\")\n",
        "  elif winner == None:\n",
        "    print (\"Tie\")\n",
        "\n",
        "    \n",
        " \n",
        "start_game()"
      ],
      "execution_count": 257,
      "outputs": [
        {
          "output_type": "stream",
          "text": [
            "-|-|-|-|-|-|-\n",
            "-|-|-|-|-|-|-\n",
            "-|-|-|-|-|-|-\n",
            "-|-|-|-|-|-|-\n",
            "-|-|-|-|-|-|-\n",
            "-|-|-|-|-|-|-\n",
            "Reference Grid:\n",
            "1|2|3|4|5|6|7\n",
            "8|9|10|11|12|13|14\n",
            "15|16|17|18|19|20|21\n",
            "22|23|24|25|26|27|28\n",
            "29|30|31|32|33|34|35\n",
            "36|37|38|39|40|41|42\n",
            "\u001b[31mO\u001b[0m's turn\n",
            "Where Would You Like To Place A Token (1-42)? 36\n",
            "-|-|-|-|-|-|-\n",
            "-|-|-|-|-|-|-\n",
            "-|-|-|-|-|-|-\n",
            "-|-|-|-|-|-|-\n",
            "-|-|-|-|-|-|-\n",
            "\u001b[31mO\u001b[0m|-|-|-|-|-|-\n",
            "Reference Grid:\n",
            "1|2|3|4|5|6|7\n",
            "8|9|10|11|12|13|14\n",
            "15|16|17|18|19|20|21\n",
            "22|23|24|25|26|27|28\n",
            "29|30|31|32|33|34|35\n",
            "36|37|38|39|40|41|42\n",
            "\u001b[33mO\u001b[0m's turn\n",
            "Where Would You Like To Place A Token (1-42)? 29\n",
            "-|-|-|-|-|-|-\n",
            "-|-|-|-|-|-|-\n",
            "-|-|-|-|-|-|-\n",
            "-|-|-|-|-|-|-\n",
            "\u001b[33mO\u001b[0m|-|-|-|-|-|-\n",
            "\u001b[31mO\u001b[0m|-|-|-|-|-|-\n",
            "Reference Grid:\n",
            "1|2|3|4|5|6|7\n",
            "8|9|10|11|12|13|14\n",
            "15|16|17|18|19|20|21\n",
            "22|23|24|25|26|27|28\n",
            "29|30|31|32|33|34|35\n",
            "36|37|38|39|40|41|42\n",
            "\u001b[31mO\u001b[0m's turn\n",
            "Where Would You Like To Place A Token (1-42)? 37\n",
            "-|-|-|-|-|-|-\n",
            "-|-|-|-|-|-|-\n",
            "-|-|-|-|-|-|-\n",
            "-|-|-|-|-|-|-\n",
            "\u001b[33mO\u001b[0m|-|-|-|-|-|-\n",
            "\u001b[31mO\u001b[0m|\u001b[31mO\u001b[0m|-|-|-|-|-\n",
            "Reference Grid:\n",
            "1|2|3|4|5|6|7\n",
            "8|9|10|11|12|13|14\n",
            "15|16|17|18|19|20|21\n",
            "22|23|24|25|26|27|28\n",
            "29|30|31|32|33|34|35\n",
            "36|37|38|39|40|41|42\n",
            "\u001b[33mO\u001b[0m's turn\n",
            "Where Would You Like To Place A Token (1-42)? 30\n",
            "-|-|-|-|-|-|-\n",
            "-|-|-|-|-|-|-\n",
            "-|-|-|-|-|-|-\n",
            "-|-|-|-|-|-|-\n",
            "\u001b[33mO\u001b[0m|\u001b[33mO\u001b[0m|-|-|-|-|-\n",
            "\u001b[31mO\u001b[0m|\u001b[31mO\u001b[0m|-|-|-|-|-\n",
            "Reference Grid:\n",
            "1|2|3|4|5|6|7\n",
            "8|9|10|11|12|13|14\n",
            "15|16|17|18|19|20|21\n",
            "22|23|24|25|26|27|28\n",
            "29|30|31|32|33|34|35\n",
            "36|37|38|39|40|41|42\n",
            "\u001b[31mO\u001b[0m's turn\n",
            "Where Would You Like To Place A Token (1-42)? 38\n",
            "-|-|-|-|-|-|-\n",
            "-|-|-|-|-|-|-\n",
            "-|-|-|-|-|-|-\n",
            "-|-|-|-|-|-|-\n",
            "\u001b[33mO\u001b[0m|\u001b[33mO\u001b[0m|-|-|-|-|-\n",
            "\u001b[31mO\u001b[0m|\u001b[31mO\u001b[0m|\u001b[31mO\u001b[0m|-|-|-|-\n",
            "Reference Grid:\n",
            "1|2|3|4|5|6|7\n",
            "8|9|10|11|12|13|14\n",
            "15|16|17|18|19|20|21\n",
            "22|23|24|25|26|27|28\n",
            "29|30|31|32|33|34|35\n",
            "36|37|38|39|40|41|42\n",
            "\u001b[33mO\u001b[0m's turn\n",
            "Where Would You Like To Place A Token (1-42)? 31\n",
            "-|-|-|-|-|-|-\n",
            "-|-|-|-|-|-|-\n",
            "-|-|-|-|-|-|-\n",
            "-|-|-|-|-|-|-\n",
            "\u001b[33mO\u001b[0m|\u001b[33mO\u001b[0m|\u001b[33mO\u001b[0m|-|-|-|-\n",
            "\u001b[31mO\u001b[0m|\u001b[31mO\u001b[0m|\u001b[31mO\u001b[0m|-|-|-|-\n",
            "Reference Grid:\n",
            "1|2|3|4|5|6|7\n",
            "8|9|10|11|12|13|14\n",
            "15|16|17|18|19|20|21\n",
            "22|23|24|25|26|27|28\n",
            "29|30|31|32|33|34|35\n",
            "36|37|38|39|40|41|42\n",
            "\u001b[31mO\u001b[0m's turn\n",
            "Where Would You Like To Place A Token (1-42)? 39\n",
            "-|-|-|-|-|-|-\n",
            "-|-|-|-|-|-|-\n",
            "-|-|-|-|-|-|-\n",
            "-|-|-|-|-|-|-\n",
            "\u001b[33mO\u001b[0m|\u001b[33mO\u001b[0m|\u001b[33mO\u001b[0m|-|-|-|-\n",
            "\u001b[31mO\u001b[0m|\u001b[31mO\u001b[0m|\u001b[31mO\u001b[0m|\u001b[31mO\u001b[0m|-|-|-\n",
            "\u001b[31mO\u001b[0m has won\n"
          ],
          "name": "stdout"
        }
      ]
    }
  ]
}